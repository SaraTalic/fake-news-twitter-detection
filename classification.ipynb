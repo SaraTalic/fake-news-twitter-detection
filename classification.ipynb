{
 "cells": [
  {
   "cell_type": "code",
   "execution_count": null,
   "metadata": {},
   "outputs": [],
   "source": [
    "import pandas as pd\n",
    "\n",
    "from sklearn.tree import DecisionTreeClassifier\n",
    "from sklearn.model_selection import train_test_split \n",
    "from sklearn import metrics \n",
    "from sklearn.metrics import accuracy_score, confusion_matrix, classification_report\n",
    "from sklearn.ensemble import RandomForestClassifier\n",
    "from sklearn.neighbors import KNeighborsClassifier\n"
   ]
  },
  {
   "cell_type": "code",
   "execution_count": null,
   "metadata": {},
   "outputs": [
    {
     "data": {
      "text/html": [
       "<div>\n",
       "<style scoped>\n",
       "    .dataframe tbody tr th:only-of-type {\n",
       "        vertical-align: middle;\n",
       "    }\n",
       "\n",
       "    .dataframe tbody tr th {\n",
       "        vertical-align: top;\n",
       "    }\n",
       "\n",
       "    .dataframe thead th {\n",
       "        text-align: right;\n",
       "    }\n",
       "</style>\n",
       "<table border=\"1\" class=\"dataframe\">\n",
       "  <thead>\n",
       "    <tr style=\"text-align: right;\">\n",
       "      <th></th>\n",
       "      <th>Unnamed: 0</th>\n",
       "      <th>majority_target</th>\n",
       "      <th>statement</th>\n",
       "      <th>tweet</th>\n",
       "      <th>followers_count</th>\n",
       "      <th>friends_count</th>\n",
       "      <th>favourites_count</th>\n",
       "      <th>statuses_count</th>\n",
       "      <th>listed_count</th>\n",
       "      <th>BotScore</th>\n",
       "      <th>...</th>\n",
       "      <th>Average word length</th>\n",
       "      <th>Present verbs</th>\n",
       "      <th>Past verbs</th>\n",
       "      <th>Adjectives</th>\n",
       "      <th>Adverbs</th>\n",
       "      <th>Pronouns</th>\n",
       "      <th>Conjunctions</th>\n",
       "      <th>Determiners</th>\n",
       "      <th>Prepositions</th>\n",
       "      <th>Digits</th>\n",
       "    </tr>\n",
       "  </thead>\n",
       "  <tbody>\n",
       "    <tr>\n",
       "      <th>0</th>\n",
       "      <td>0</td>\n",
       "      <td>True</td>\n",
       "      <td>End of eviction moratorium means millions of A...</td>\n",
       "      <td>@POTUS Biden Blunders - 6 Month Update\\n\\nInfl...</td>\n",
       "      <td>4262.0</td>\n",
       "      <td>3619.0</td>\n",
       "      <td>34945.0</td>\n",
       "      <td>16423.0</td>\n",
       "      <td>44.0</td>\n",
       "      <td>0.03</td>\n",
       "      <td>...</td>\n",
       "      <td>6.354839</td>\n",
       "      <td>0.0</td>\n",
       "      <td>0.0</td>\n",
       "      <td>2.0</td>\n",
       "      <td>0.0</td>\n",
       "      <td>1.0</td>\n",
       "      <td>0.0</td>\n",
       "      <td>0.0</td>\n",
       "      <td>0.0</td>\n",
       "      <td>2.0</td>\n",
       "    </tr>\n",
       "    <tr>\n",
       "      <th>1</th>\n",
       "      <td>1</td>\n",
       "      <td>True</td>\n",
       "      <td>End of eviction moratorium means millions of A...</td>\n",
       "      <td>@S0SickRick @Stairmaster_ @6d6f636869 Not as m...</td>\n",
       "      <td>1393.0</td>\n",
       "      <td>1621.0</td>\n",
       "      <td>31436.0</td>\n",
       "      <td>37184.0</td>\n",
       "      <td>64.0</td>\n",
       "      <td>0.03</td>\n",
       "      <td>...</td>\n",
       "      <td>7.000000</td>\n",
       "      <td>0.0</td>\n",
       "      <td>0.0</td>\n",
       "      <td>4.0</td>\n",
       "      <td>2.0</td>\n",
       "      <td>0.0</td>\n",
       "      <td>0.0</td>\n",
       "      <td>0.0</td>\n",
       "      <td>0.0</td>\n",
       "      <td>0.0</td>\n",
       "    </tr>\n",
       "    <tr>\n",
       "      <th>2</th>\n",
       "      <td>2</td>\n",
       "      <td>True</td>\n",
       "      <td>End of eviction moratorium means millions of A...</td>\n",
       "      <td>THE SUPREME COURT is siding with super rich pr...</td>\n",
       "      <td>9.0</td>\n",
       "      <td>84.0</td>\n",
       "      <td>219.0</td>\n",
       "      <td>1184.0</td>\n",
       "      <td>0.0</td>\n",
       "      <td>0.03</td>\n",
       "      <td>...</td>\n",
       "      <td>6.000000</td>\n",
       "      <td>0.0</td>\n",
       "      <td>0.0</td>\n",
       "      <td>6.0</td>\n",
       "      <td>2.0</td>\n",
       "      <td>0.0</td>\n",
       "      <td>0.0</td>\n",
       "      <td>0.0</td>\n",
       "      <td>0.0</td>\n",
       "      <td>0.0</td>\n",
       "    </tr>\n",
       "    <tr>\n",
       "      <th>3</th>\n",
       "      <td>3</td>\n",
       "      <td>True</td>\n",
       "      <td>End of eviction moratorium means millions of A...</td>\n",
       "      <td>@POTUS Biden Blunders\\n\\nBroken campaign promi...</td>\n",
       "      <td>4262.0</td>\n",
       "      <td>3619.0</td>\n",
       "      <td>34945.0</td>\n",
       "      <td>16423.0</td>\n",
       "      <td>44.0</td>\n",
       "      <td>0.03</td>\n",
       "      <td>...</td>\n",
       "      <td>6.515152</td>\n",
       "      <td>2.0</td>\n",
       "      <td>1.0</td>\n",
       "      <td>2.0</td>\n",
       "      <td>1.0</td>\n",
       "      <td>0.0</td>\n",
       "      <td>0.0</td>\n",
       "      <td>0.0</td>\n",
       "      <td>1.0</td>\n",
       "      <td>2.0</td>\n",
       "    </tr>\n",
       "    <tr>\n",
       "      <th>4</th>\n",
       "      <td>4</td>\n",
       "      <td>True</td>\n",
       "      <td>End of eviction moratorium means millions of A...</td>\n",
       "      <td>@OhComfy I agree. The confluence of events rig...</td>\n",
       "      <td>70.0</td>\n",
       "      <td>166.0</td>\n",
       "      <td>15282.0</td>\n",
       "      <td>2194.0</td>\n",
       "      <td>0.0</td>\n",
       "      <td>0.03</td>\n",
       "      <td>...</td>\n",
       "      <td>7.333333</td>\n",
       "      <td>0.0</td>\n",
       "      <td>0.0</td>\n",
       "      <td>3.0</td>\n",
       "      <td>0.0</td>\n",
       "      <td>0.0</td>\n",
       "      <td>0.0</td>\n",
       "      <td>0.0</td>\n",
       "      <td>0.0</td>\n",
       "      <td>0.0</td>\n",
       "    </tr>\n",
       "    <tr>\n",
       "      <th>...</th>\n",
       "      <td>...</td>\n",
       "      <td>...</td>\n",
       "      <td>...</td>\n",
       "      <td>...</td>\n",
       "      <td>...</td>\n",
       "      <td>...</td>\n",
       "      <td>...</td>\n",
       "      <td>...</td>\n",
       "      <td>...</td>\n",
       "      <td>...</td>\n",
       "      <td>...</td>\n",
       "      <td>...</td>\n",
       "      <td>...</td>\n",
       "      <td>...</td>\n",
       "      <td>...</td>\n",
       "      <td>...</td>\n",
       "      <td>...</td>\n",
       "      <td>...</td>\n",
       "      <td>...</td>\n",
       "      <td>...</td>\n",
       "      <td>...</td>\n",
       "    </tr>\n",
       "    <tr>\n",
       "      <th>134190</th>\n",
       "      <td>134193</td>\n",
       "      <td>False</td>\n",
       "      <td>Joe Bidens great-grandfather Joseph J. Biden w...</td>\n",
       "      <td>Joe Biden's family owned African slaves....\\n\\...</td>\n",
       "      <td>2075.0</td>\n",
       "      <td>2662.0</td>\n",
       "      <td>156306.0</td>\n",
       "      <td>62375.0</td>\n",
       "      <td>3.0</td>\n",
       "      <td>0.03</td>\n",
       "      <td>...</td>\n",
       "      <td>6.157895</td>\n",
       "      <td>0.0</td>\n",
       "      <td>3.0</td>\n",
       "      <td>1.0</td>\n",
       "      <td>0.0</td>\n",
       "      <td>0.0</td>\n",
       "      <td>0.0</td>\n",
       "      <td>0.0</td>\n",
       "      <td>0.0</td>\n",
       "      <td>1.0</td>\n",
       "    </tr>\n",
       "    <tr>\n",
       "      <th>134191</th>\n",
       "      <td>134194</td>\n",
       "      <td>False</td>\n",
       "      <td>Joe Bidens great-grandfather Joseph J. Biden w...</td>\n",
       "      <td>Joe Bidens great, great grandfather was a slav...</td>\n",
       "      <td>1636.0</td>\n",
       "      <td>1626.0</td>\n",
       "      <td>215290.0</td>\n",
       "      <td>44011.0</td>\n",
       "      <td>10.0</td>\n",
       "      <td>0.03</td>\n",
       "      <td>...</td>\n",
       "      <td>5.272727</td>\n",
       "      <td>0.0</td>\n",
       "      <td>1.0</td>\n",
       "      <td>2.0</td>\n",
       "      <td>0.0</td>\n",
       "      <td>0.0</td>\n",
       "      <td>0.0</td>\n",
       "      <td>0.0</td>\n",
       "      <td>0.0</td>\n",
       "      <td>1.0</td>\n",
       "    </tr>\n",
       "    <tr>\n",
       "      <th>134192</th>\n",
       "      <td>134195</td>\n",
       "      <td>False</td>\n",
       "      <td>Joe Bidens great-grandfather Joseph J. Biden w...</td>\n",
       "      <td>@ChevyChaseToGo \"Joe Bidens great-grandfather ...</td>\n",
       "      <td>286.0</td>\n",
       "      <td>2501.0</td>\n",
       "      <td>28377.0</td>\n",
       "      <td>7617.0</td>\n",
       "      <td>1.0</td>\n",
       "      <td>0.03</td>\n",
       "      <td>...</td>\n",
       "      <td>7.083333</td>\n",
       "      <td>0.0</td>\n",
       "      <td>1.0</td>\n",
       "      <td>0.0</td>\n",
       "      <td>0.0</td>\n",
       "      <td>0.0</td>\n",
       "      <td>0.0</td>\n",
       "      <td>0.0</td>\n",
       "      <td>0.0</td>\n",
       "      <td>1.0</td>\n",
       "    </tr>\n",
       "    <tr>\n",
       "      <th>134193</th>\n",
       "      <td>134196</td>\n",
       "      <td>False</td>\n",
       "      <td>Joe Bidens great-grandfather Joseph J. Biden w...</td>\n",
       "      <td>@JoeBiden Facts are Bidens VP Kamala Harris Gr...</td>\n",
       "      <td>2.0</td>\n",
       "      <td>45.0</td>\n",
       "      <td>16.0</td>\n",
       "      <td>509.0</td>\n",
       "      <td>0.0</td>\n",
       "      <td>0.03</td>\n",
       "      <td>...</td>\n",
       "      <td>5.966667</td>\n",
       "      <td>2.0</td>\n",
       "      <td>1.0</td>\n",
       "      <td>3.0</td>\n",
       "      <td>0.0</td>\n",
       "      <td>0.0</td>\n",
       "      <td>0.0</td>\n",
       "      <td>0.0</td>\n",
       "      <td>0.0</td>\n",
       "      <td>0.0</td>\n",
       "    </tr>\n",
       "    <tr>\n",
       "      <th>134194</th>\n",
       "      <td>134197</td>\n",
       "      <td>False</td>\n",
       "      <td>Joe Bidens great-grandfather Joseph J. Biden w...</td>\n",
       "      <td>@sunny Yes representation matters. Did you kno...</td>\n",
       "      <td>178.0</td>\n",
       "      <td>471.0</td>\n",
       "      <td>1254.0</td>\n",
       "      <td>2094.0</td>\n",
       "      <td>0.0</td>\n",
       "      <td>0.03</td>\n",
       "      <td>...</td>\n",
       "      <td>4.875000</td>\n",
       "      <td>0.0</td>\n",
       "      <td>2.0</td>\n",
       "      <td>4.0</td>\n",
       "      <td>1.0</td>\n",
       "      <td>1.0</td>\n",
       "      <td>0.0</td>\n",
       "      <td>0.0</td>\n",
       "      <td>1.0</td>\n",
       "      <td>1.0</td>\n",
       "    </tr>\n",
       "  </tbody>\n",
       "</table>\n",
       "<p>134195 rows × 35 columns</p>\n",
       "</div>"
      ],
      "text/plain": [
       "        Unnamed: 0  majority_target  \\\n",
       "0                0             True   \n",
       "1                1             True   \n",
       "2                2             True   \n",
       "3                3             True   \n",
       "4                4             True   \n",
       "...            ...              ...   \n",
       "134190      134193            False   \n",
       "134191      134194            False   \n",
       "134192      134195            False   \n",
       "134193      134196            False   \n",
       "134194      134197            False   \n",
       "\n",
       "                                                statement  \\\n",
       "0       End of eviction moratorium means millions of A...   \n",
       "1       End of eviction moratorium means millions of A...   \n",
       "2       End of eviction moratorium means millions of A...   \n",
       "3       End of eviction moratorium means millions of A...   \n",
       "4       End of eviction moratorium means millions of A...   \n",
       "...                                                   ...   \n",
       "134190  Joe Bidens great-grandfather Joseph J. Biden w...   \n",
       "134191  Joe Bidens great-grandfather Joseph J. Biden w...   \n",
       "134192  Joe Bidens great-grandfather Joseph J. Biden w...   \n",
       "134193  Joe Bidens great-grandfather Joseph J. Biden w...   \n",
       "134194  Joe Bidens great-grandfather Joseph J. Biden w...   \n",
       "\n",
       "                                                    tweet  followers_count  \\\n",
       "0       @POTUS Biden Blunders - 6 Month Update\\n\\nInfl...           4262.0   \n",
       "1       @S0SickRick @Stairmaster_ @6d6f636869 Not as m...           1393.0   \n",
       "2       THE SUPREME COURT is siding with super rich pr...              9.0   \n",
       "3       @POTUS Biden Blunders\\n\\nBroken campaign promi...           4262.0   \n",
       "4       @OhComfy I agree. The confluence of events rig...             70.0   \n",
       "...                                                   ...              ...   \n",
       "134190  Joe Biden's family owned African slaves....\\n\\...           2075.0   \n",
       "134191  Joe Bidens great, great grandfather was a slav...           1636.0   \n",
       "134192  @ChevyChaseToGo \"Joe Bidens great-grandfather ...            286.0   \n",
       "134193  @JoeBiden Facts are Bidens VP Kamala Harris Gr...              2.0   \n",
       "134194  @sunny Yes representation matters. Did you kno...            178.0   \n",
       "\n",
       "        friends_count  favourites_count  statuses_count  listed_count  \\\n",
       "0              3619.0           34945.0         16423.0          44.0   \n",
       "1              1621.0           31436.0         37184.0          64.0   \n",
       "2                84.0             219.0          1184.0           0.0   \n",
       "3              3619.0           34945.0         16423.0          44.0   \n",
       "4               166.0           15282.0          2194.0           0.0   \n",
       "...               ...               ...             ...           ...   \n",
       "134190         2662.0          156306.0         62375.0           3.0   \n",
       "134191         1626.0          215290.0         44011.0          10.0   \n",
       "134192         2501.0           28377.0          7617.0           1.0   \n",
       "134193           45.0              16.0           509.0           0.0   \n",
       "134194          471.0            1254.0          2094.0           0.0   \n",
       "\n",
       "        BotScore  ...  Average word length  Present verbs  Past verbs  \\\n",
       "0           0.03  ...             6.354839            0.0         0.0   \n",
       "1           0.03  ...             7.000000            0.0         0.0   \n",
       "2           0.03  ...             6.000000            0.0         0.0   \n",
       "3           0.03  ...             6.515152            2.0         1.0   \n",
       "4           0.03  ...             7.333333            0.0         0.0   \n",
       "...          ...  ...                  ...            ...         ...   \n",
       "134190      0.03  ...             6.157895            0.0         3.0   \n",
       "134191      0.03  ...             5.272727            0.0         1.0   \n",
       "134192      0.03  ...             7.083333            0.0         1.0   \n",
       "134193      0.03  ...             5.966667            2.0         1.0   \n",
       "134194      0.03  ...             4.875000            0.0         2.0   \n",
       "\n",
       "        Adjectives  Adverbs  Pronouns  Conjunctions  Determiners  \\\n",
       "0              2.0      0.0       1.0           0.0          0.0   \n",
       "1              4.0      2.0       0.0           0.0          0.0   \n",
       "2              6.0      2.0       0.0           0.0          0.0   \n",
       "3              2.0      1.0       0.0           0.0          0.0   \n",
       "4              3.0      0.0       0.0           0.0          0.0   \n",
       "...            ...      ...       ...           ...          ...   \n",
       "134190         1.0      0.0       0.0           0.0          0.0   \n",
       "134191         2.0      0.0       0.0           0.0          0.0   \n",
       "134192         0.0      0.0       0.0           0.0          0.0   \n",
       "134193         3.0      0.0       0.0           0.0          0.0   \n",
       "134194         4.0      1.0       1.0           0.0          0.0   \n",
       "\n",
       "        Prepositions  Digits  \n",
       "0                0.0     2.0  \n",
       "1                0.0     0.0  \n",
       "2                0.0     0.0  \n",
       "3                1.0     2.0  \n",
       "4                0.0     0.0  \n",
       "...              ...     ...  \n",
       "134190           0.0     1.0  \n",
       "134191           0.0     1.0  \n",
       "134192           0.0     1.0  \n",
       "134193           0.0     0.0  \n",
       "134194           1.0     1.0  \n",
       "\n",
       "[134195 rows x 35 columns]"
      ]
     },
     "execution_count": 2,
     "metadata": {},
     "output_type": "execute_result"
    }
   ],
   "source": [
    "df = pd.read_csv(\"df_new.csv\")\n",
    "df"
   ]
  },
  {
   "cell_type": "code",
   "execution_count": null,
   "metadata": {},
   "outputs": [
    {
     "data": {
      "text/plain": [
       "Index(['Unnamed: 0', 'majority_target', 'statement', 'tweet',\n",
       "       'followers_count', 'friends_count', 'favourites_count',\n",
       "       'statuses_count', 'listed_count', 'BotScore', 'BotScoreBinary', 'cred',\n",
       "       'normalize_influence', 'mentions', 'quotes', 'replies', 'retweets',\n",
       "       'favourites', 'hashtags', 'URLs', 'tweet_new', 'tweet_tokens',\n",
       "       'Word count', 'Max word length', 'Min word length',\n",
       "       'Average word length', 'Present verbs', 'Past verbs', 'Adjectives',\n",
       "       'Adverbs', 'Pronouns', 'Conjunctions', 'Determiners', 'Prepositions',\n",
       "       'Digits'],\n",
       "      dtype='object')"
      ]
     },
     "execution_count": 3,
     "metadata": {},
     "output_type": "execute_result"
    }
   ],
   "source": [
    "df.columns"
   ]
  },
  {
   "cell_type": "code",
   "execution_count": null,
   "metadata": {},
   "outputs": [],
   "source": [
    "# Nije trebalo da obrisem ovu kolonu u preprocesiranju\n",
    "df['Binary Target'] = df['majority_target'].astype(int)\n"
   ]
  },
  {
   "cell_type": "code",
   "execution_count": null,
   "metadata": {},
   "outputs": [
    {
     "data": {
      "text/plain": [
       "Index(['Unnamed: 0', 'majority_target', 'statement', 'tweet',\n",
       "       'followers_count', 'friends_count', 'favourites_count',\n",
       "       'statuses_count', 'listed_count', 'BotScore', 'BotScoreBinary', 'cred',\n",
       "       'normalize_influence', 'mentions', 'quotes', 'replies', 'retweets',\n",
       "       'favourites', 'hashtags', 'URLs', 'tweet_new', 'tweet_tokens',\n",
       "       'Word count', 'Max word length', 'Min word length',\n",
       "       'Average word length', 'Present verbs', 'Past verbs', 'Adjectives',\n",
       "       'Adverbs', 'Pronouns', 'Conjunctions', 'Determiners', 'Prepositions',\n",
       "       'Digits', 'Binary Target'],\n",
       "      dtype='object')"
      ]
     },
     "execution_count": 5,
     "metadata": {},
     "output_type": "execute_result"
    }
   ],
   "source": [
    "df.columns"
   ]
  },
  {
   "cell_type": "code",
   "execution_count": 43,
   "metadata": {},
   "outputs": [
    {
     "data": {
      "text/plain": [
       "20865"
      ]
     },
     "execution_count": 43,
     "metadata": {},
     "output_type": "execute_result"
    }
   ],
   "source": [
    "len(df[df['Adjectives']==0])"
   ]
  },
  {
   "cell_type": "code",
   "execution_count": 48,
   "metadata": {},
   "outputs": [],
   "source": [
    "feature_cols = [\n",
    "    'Word count', 'Max word length', 'Min word length',\n",
    "    'Average word length', 'Present verbs', 'Past verbs', 'Adjectives',\n",
    "    'Adverbs', 'Pronouns', 'Conjunctions', 'Determiners', 'Prepositions',\n",
    "    'Digits'\n",
    "]"
   ]
  },
  {
   "cell_type": "code",
   "execution_count": 49,
   "metadata": {},
   "outputs": [],
   "source": [
    "x = df[feature_cols]\n",
    "y = df['Binary Target']"
   ]
  },
  {
   "cell_type": "markdown",
   "metadata": {},
   "source": [
    "# Decision Tree"
   ]
  },
  {
   "cell_type": "code",
   "execution_count": null,
   "metadata": {},
   "outputs": [],
   "source": [
    "x_train, x_test, y_train, y_test = train_test_split(x, y, test_size=0.2, random_state=1) "
   ]
  },
  {
   "cell_type": "code",
   "execution_count": 51,
   "metadata": {},
   "outputs": [],
   "source": [
    "\n",
    "clf = DecisionTreeClassifier()\n",
    "clf = clf.fit(x_train,y_train)\n",
    "y_pred = clf.predict(x_test)"
   ]
  },
  {
   "cell_type": "code",
   "execution_count": 52,
   "metadata": {},
   "outputs": [
    {
     "name": "stdout",
     "output_type": "stream",
     "text": [
      "Accuracy: 0.5759156451432617\n",
      "Precision: 0.5928640165815382\n",
      "Recall: 0.5765603628248506\n"
     ]
    }
   ],
   "source": [
    "print(\"Accuracy:\",metrics.accuracy_score(y_test, y_pred))\n",
    "print(\"Precision:\",metrics.precision_score(y_test, y_pred))\n",
    "print(\"Recall:\",metrics.recall_score(y_test, y_pred))"
   ]
  },
  {
   "cell_type": "code",
   "execution_count": 13,
   "metadata": {},
   "outputs": [
    {
     "name": "stdout",
     "output_type": "stream",
     "text": [
      "              precision    recall  f1-score   support\n",
      "\n",
      "           0       0.56      0.58      0.57     12948\n",
      "           1       0.59      0.58      0.58     13891\n",
      "\n",
      "    accuracy                           0.58     26839\n",
      "   macro avg       0.58      0.58      0.58     26839\n",
      "weighted avg       0.58      0.58      0.58     26839\n",
      "\n"
     ]
    }
   ],
   "source": [
    "print(classification_report(y_test, y_pred))"
   ]
  },
  {
   "cell_type": "markdown",
   "metadata": {},
   "source": [
    "# Random Forest"
   ]
  },
  {
   "cell_type": "code",
   "execution_count": 53,
   "metadata": {},
   "outputs": [
    {
     "name": "stdout",
     "output_type": "stream",
     "text": [
      "Accuracy: 0.6157457431349901\n",
      "Precision: 0.6315828184760224\n",
      "Recall: 0.6181700381542006\n"
     ]
    }
   ],
   "source": [
    "rf = RandomForestClassifier()\n",
    "rf.fit(x_train, y_train)\n",
    "y_pred = rf.predict(x_test)\n",
    "accuracy = accuracy_score(y_test, y_pred)\n",
    "\n",
    "print(\"Accuracy:\",metrics.accuracy_score(y_test, y_pred))\n",
    "print(\"Precision:\",metrics.precision_score(y_test, y_pred))\n",
    "print(\"Recall:\",metrics.recall_score(y_test, y_pred))"
   ]
  },
  {
   "cell_type": "code",
   "execution_count": 54,
   "metadata": {},
   "outputs": [
    {
     "name": "stdout",
     "output_type": "stream",
     "text": [
      "              precision    recall  f1-score   support\n",
      "\n",
      "           0       0.60      0.61      0.61     12948\n",
      "           1       0.63      0.62      0.62     13891\n",
      "\n",
      "    accuracy                           0.62     26839\n",
      "   macro avg       0.62      0.62      0.62     26839\n",
      "weighted avg       0.62      0.62      0.62     26839\n",
      "\n"
     ]
    }
   ],
   "source": [
    "print(classification_report(y_test, y_pred))"
   ]
  },
  {
   "cell_type": "markdown",
   "metadata": {},
   "source": [
    "# KNN"
   ]
  },
  {
   "cell_type": "code",
   "execution_count": 55,
   "metadata": {},
   "outputs": [
    {
     "name": "stdout",
     "output_type": "stream",
     "text": [
      "Accuracy: 0.5885465181266069\n",
      "Precision: 0.604154476301931\n",
      "Recall: 0.5946296162983227\n"
     ]
    }
   ],
   "source": [
    "\n",
    "knn = KNeighborsClassifier(n_neighbors=3)  \n",
    "\n",
    "knn.fit(x_train, y_train)\n",
    "y_pred = knn.predict(x_test)\n",
    "\n",
    "print(\"Accuracy:\",metrics.accuracy_score(y_test, y_pred))\n",
    "print(\"Precision:\",metrics.precision_score(y_test, y_pred))\n",
    "print(\"Recall:\",metrics.recall_score(y_test, y_pred))"
   ]
  }
 ],
 "metadata": {
  "kernelspec": {
   "display_name": "Python 3",
   "language": "python",
   "name": "python3"
  },
  "language_info": {
   "codemirror_mode": {
    "name": "ipython",
    "version": 3
   },
   "file_extension": ".py",
   "mimetype": "text/x-python",
   "name": "python",
   "nbconvert_exporter": "python",
   "pygments_lexer": "ipython3",
   "version": "3.11.9"
  }
 },
 "nbformat": 4,
 "nbformat_minor": 2
}
