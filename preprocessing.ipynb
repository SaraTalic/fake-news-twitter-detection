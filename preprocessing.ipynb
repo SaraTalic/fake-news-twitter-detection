{
 "cells": [
  {
   "cell_type": "code",
   "execution_count": 1,
   "metadata": {},
   "outputs": [],
   "source": [
    "\n",
    "import pandas as pd\n",
    "import numpy as np\n",
    "import re\n",
    "import matplotlib.pyplot as plt\n",
    "import seaborn as sns\n",
    "import plotly.express as px\n",
    "from plotly.offline import iplot, plot\n",
    "from empath import Empath\n",
    "\n",
    "from nltk.corpus import stopwords\n",
    "from nltk.tokenize import word_tokenize\n",
    "\n",
    "import spacy\n",
    "\n",
    "from sklearn.preprocessing import MinMaxScaler\n",
    "\n",
    "import numpy as np"
   ]
  },
  {
   "cell_type": "code",
   "execution_count": 2,
   "metadata": {},
   "outputs": [],
   "source": [
    "df = pd.read_csv(\"data/Features_For_Traditional_ML_Techniques.csv\")\n"
   ]
  },
  {
   "cell_type": "code",
   "execution_count": 3,
   "metadata": {},
   "outputs": [],
   "source": [
    "# Brisanje kolona, following ima vrijednosti samo 0\n",
    "\n",
    "df = df.drop(columns=['following'])\n"
   ]
  },
  {
   "cell_type": "code",
   "execution_count": 4,
   "metadata": {},
   "outputs": [
    {
     "data": {
      "text/plain": [
       "(134198, 63)"
      ]
     },
     "execution_count": 4,
     "metadata": {},
     "output_type": "execute_result"
    }
   ],
   "source": [
    "df.shape"
   ]
  },
  {
   "cell_type": "code",
   "execution_count": 5,
   "metadata": {},
   "outputs": [],
   "source": [
    "#Brisemo kolone koje cemo ponovo racunati zbog naseg preprocesiranja i neke nepotrebne\n",
    "\n",
    "columns_to_remove = [\n",
    "    'ORG_percentage', 'NORP_percentage', 'GPE_percentage',\n",
    "    'PERSON_percentage', 'MONEY_percentage', 'DATE_percentage',\n",
    "    'CARDINAL_percentage', 'PERCENT_percentage', 'ORDINAL_percentage',\n",
    "    'FAC_percentage', 'LAW_percentage', 'PRODUCT_percentage',\n",
    "    'EVENT_percentage', 'TIME_percentage', 'LOC_percentage',\n",
    "    'WORK_OF_ART_percentage', 'QUANTITY_percentage', 'LANGUAGE_percentage',\n",
    "    'Word count', 'Max word length', 'Min word length',\n",
    "    'Average word length', 'present_verbs', 'past_verbs', 'adjectives',\n",
    "    'adverbs', 'adpositions', 'pronouns', 'TOs', 'determiners',\n",
    "    'conjunctions', 'dots', 'exclamation', 'questions', 'ampersand',\n",
    "    'capitals', 'digits', 'long_word_freq', 'short_word_freq'\n",
    "]\n",
    "\n",
    "df = df.drop(columns=columns_to_remove, errors=\"ignore\") \n"
   ]
  },
  {
   "cell_type": "code",
   "execution_count": 6,
   "metadata": {},
   "outputs": [
    {
     "data": {
      "text/plain": [
       "(134198, 24)"
      ]
     },
     "execution_count": 6,
     "metadata": {},
     "output_type": "execute_result"
    }
   ],
   "source": [
    "df.shape"
   ]
  },
  {
   "cell_type": "markdown",
   "metadata": {},
   "source": [
    "# Text cleaning"
   ]
  },
  {
   "cell_type": "code",
   "execution_count": 7,
   "metadata": {},
   "outputs": [
    {
     "data": {
      "text/html": [
       "<div>\n",
       "<style scoped>\n",
       "    .dataframe tbody tr th:only-of-type {\n",
       "        vertical-align: middle;\n",
       "    }\n",
       "\n",
       "    .dataframe tbody tr th {\n",
       "        vertical-align: top;\n",
       "    }\n",
       "\n",
       "    .dataframe thead th {\n",
       "        text-align: right;\n",
       "    }\n",
       "</style>\n",
       "<table border=\"1\" class=\"dataframe\">\n",
       "  <thead>\n",
       "    <tr style=\"text-align: right;\">\n",
       "      <th></th>\n",
       "      <th>tweet</th>\n",
       "      <th>tweet_new</th>\n",
       "    </tr>\n",
       "  </thead>\n",
       "  <tbody>\n",
       "    <tr>\n",
       "      <th>0</th>\n",
       "      <td>@POTUS Biden Blunders - 6 Month Update\\n\\nInfl...</td>\n",
       "      <td>biden blunders 6 month update inflation delta ...</td>\n",
       "    </tr>\n",
       "    <tr>\n",
       "      <th>1</th>\n",
       "      <td>@S0SickRick @Stairmaster_ @6d6f636869 Not as m...</td>\n",
       "      <td>not as many people are literally starving and ...</td>\n",
       "    </tr>\n",
       "    <tr>\n",
       "      <th>2</th>\n",
       "      <td>THE SUPREME COURT is siding with super rich pr...</td>\n",
       "      <td>the supreme court is siding with super rich pr...</td>\n",
       "    </tr>\n",
       "    <tr>\n",
       "      <th>3</th>\n",
       "      <td>@POTUS Biden Blunders\\n\\nBroken campaign promi...</td>\n",
       "      <td>biden blunders broken campaign promises inflat...</td>\n",
       "    </tr>\n",
       "    <tr>\n",
       "      <th>4</th>\n",
       "      <td>@OhComfy I agree. The confluence of events rig...</td>\n",
       "      <td>i agree the confluence of events right now is ...</td>\n",
       "    </tr>\n",
       "  </tbody>\n",
       "</table>\n",
       "</div>"
      ],
      "text/plain": [
       "                                               tweet  \\\n",
       "0  @POTUS Biden Blunders - 6 Month Update\\n\\nInfl...   \n",
       "1  @S0SickRick @Stairmaster_ @6d6f636869 Not as m...   \n",
       "2  THE SUPREME COURT is siding with super rich pr...   \n",
       "3  @POTUS Biden Blunders\\n\\nBroken campaign promi...   \n",
       "4  @OhComfy I agree. The confluence of events rig...   \n",
       "\n",
       "                                           tweet_new  \n",
       "0  biden blunders 6 month update inflation delta ...  \n",
       "1  not as many people are literally starving and ...  \n",
       "2  the supreme court is siding with super rich pr...  \n",
       "3  biden blunders broken campaign promises inflat...  \n",
       "4  i agree the confluence of events right now is ...  "
      ]
     },
     "execution_count": 7,
     "metadata": {},
     "output_type": "execute_result"
    }
   ],
   "source": [
    "def clean_text(text):\n",
    "    if isinstance(text, str):  \n",
    "        text = re.sub(r\"@\\w+\", \"\", text)  # @pominjanja\n",
    "        text = re.sub(r\"http\\S+|www\\S+\", \"\", text)  # URL\n",
    "        text = re.sub(r\"[^\\w\\s]|_\", \"\", text)  # specijalni karakteri\n",
    "        text = text.lower()  # konverzija u mala slova\n",
    "        text = re.sub(r\"\\s+\", \" \", text).strip()  # visestruke bjeline\n",
    "        return text\n",
    "    return text\n",
    "\n",
    "df['tweet_new'] = df[\"tweet\"].apply(clean_text)\n",
    "df[[\"tweet\", \"tweet_new\"]].head(5)"
   ]
  },
  {
   "cell_type": "code",
   "execution_count": 8,
   "metadata": {},
   "outputs": [],
   "source": [
    "df['tweet_new'] = df['tweet_new'].str.replace(r'\\bamp\\b', '', regex=True).str.strip()"
   ]
  },
  {
   "cell_type": "markdown",
   "metadata": {},
   "source": [
    "# Stop Word Removal "
   ]
  },
  {
   "cell_type": "code",
   "execution_count": 8,
   "metadata": {},
   "outputs": [
    {
     "data": {
      "text/plain": [
       "'custom_stopwords = {\\n    \"the\", \"a\", \"an\", \"and\", \"or\", \"but\", \"if\", \"then\", \"because\", \"so\",\\n    \"to\", \"of\", \"in\", \"on\", \"with\", \"for\", \"at\", \"by\", \"from\", \"about\"\\n}\\n\\ndef remove_custom_stopwords(text):\\n    if isinstance(text, str):\\n        words = text.split()\\n        filtered_words = [word for word in words if word.lower() not in custom_stopwords]\\n        return \" \".join(filtered_words)\\n    return text\\n\\ndf[\"tweet_new\"] = df[\"tweet_new\"].apply(remove_custom_stopwords)'"
      ]
     },
     "execution_count": 8,
     "metadata": {},
     "output_type": "execute_result"
    }
   ],
   "source": [
    "'''custom_stopwords = {\n",
    "    \"the\", \"a\", \"an\", \"and\", \"or\", \"but\", \"if\", \"then\", \"because\", \"so\",\n",
    "    \"to\", \"of\", \"in\", \"on\", \"with\", \"for\", \"at\", \"by\", \"from\", \"about\"\n",
    "}\n",
    "\n",
    "def remove_custom_stopwords(text):\n",
    "    if isinstance(text, str):\n",
    "        words = text.split()\n",
    "        filtered_words = [word for word in words if word.lower() not in custom_stopwords]\n",
    "        return \" \".join(filtered_words)\n",
    "    return text\n",
    "\n",
    "df[\"tweet_new\"] = df[\"tweet_new\"].apply(remove_custom_stopwords)'''\n"
   ]
  },
  {
   "cell_type": "code",
   "execution_count": 9,
   "metadata": {},
   "outputs": [
    {
     "data": {
      "text/html": [
       "<div>\n",
       "<style scoped>\n",
       "    .dataframe tbody tr th:only-of-type {\n",
       "        vertical-align: middle;\n",
       "    }\n",
       "\n",
       "    .dataframe tbody tr th {\n",
       "        vertical-align: top;\n",
       "    }\n",
       "\n",
       "    .dataframe thead th {\n",
       "        text-align: right;\n",
       "    }\n",
       "</style>\n",
       "<table border=\"1\" class=\"dataframe\">\n",
       "  <thead>\n",
       "    <tr style=\"text-align: right;\">\n",
       "      <th></th>\n",
       "      <th>tweet</th>\n",
       "      <th>tweet_new</th>\n",
       "    </tr>\n",
       "  </thead>\n",
       "  <tbody>\n",
       "    <tr>\n",
       "      <th>0</th>\n",
       "      <td>@POTUS Biden Blunders - 6 Month Update\\n\\nInfl...</td>\n",
       "      <td>biden blunders 6 month update inflation delta ...</td>\n",
       "    </tr>\n",
       "    <tr>\n",
       "      <th>1</th>\n",
       "      <td>@S0SickRick @Stairmaster_ @6d6f636869 Not as m...</td>\n",
       "      <td>many people literally starving streets 19th ce...</td>\n",
       "    </tr>\n",
       "    <tr>\n",
       "      <th>2</th>\n",
       "      <td>THE SUPREME COURT is siding with super rich pr...</td>\n",
       "      <td>supreme court siding super rich property owner...</td>\n",
       "    </tr>\n",
       "    <tr>\n",
       "      <th>3</th>\n",
       "      <td>@POTUS Biden Blunders\\n\\nBroken campaign promi...</td>\n",
       "      <td>biden blunders broken campaign promises inflat...</td>\n",
       "    </tr>\n",
       "    <tr>\n",
       "      <th>4</th>\n",
       "      <td>@OhComfy I agree. The confluence of events rig...</td>\n",
       "      <td>agree confluence events right unprecedented af...</td>\n",
       "    </tr>\n",
       "  </tbody>\n",
       "</table>\n",
       "</div>"
      ],
      "text/plain": [
       "                                               tweet  \\\n",
       "0  @POTUS Biden Blunders - 6 Month Update\\n\\nInfl...   \n",
       "1  @S0SickRick @Stairmaster_ @6d6f636869 Not as m...   \n",
       "2  THE SUPREME COURT is siding with super rich pr...   \n",
       "3  @POTUS Biden Blunders\\n\\nBroken campaign promi...   \n",
       "4  @OhComfy I agree. The confluence of events rig...   \n",
       "\n",
       "                                           tweet_new  \n",
       "0  biden blunders 6 month update inflation delta ...  \n",
       "1  many people literally starving streets 19th ce...  \n",
       "2  supreme court siding super rich property owner...  \n",
       "3  biden blunders broken campaign promises inflat...  \n",
       "4  agree confluence events right unprecedented af...  "
      ]
     },
     "execution_count": 9,
     "metadata": {},
     "output_type": "execute_result"
    }
   ],
   "source": [
    "#Koristimo stopwords nltk biblioteke\n",
    "\n",
    "stop_words = set(stopwords.words(\"english\"))\n",
    "\n",
    "def remove_stopwords(text):\n",
    "    if isinstance(text, str):\n",
    "        words = text.split()  \n",
    "        filtered_words = [word for word in words if word not in stop_words] \n",
    "        return \" \".join(filtered_words) \n",
    "    return text  \n",
    "\n",
    "df[\"tweet_new\"] = df[\"tweet_new\"].apply(remove_stopwords)\n",
    "df[[\"tweet\", \"tweet_new\"]].head(5)"
   ]
  },
  {
   "cell_type": "markdown",
   "metadata": {},
   "source": [
    "# Lemmatization"
   ]
  },
  {
   "cell_type": "code",
   "execution_count": 10,
   "metadata": {},
   "outputs": [
    {
     "data": {
      "text/plain": [
       "'nlp = spacy.load(\"en_core_web_sm\")\\n\\ndef lemmatize_text_with_no_verbs(text):\\n    doc = nlp(text)\\n    lemmatized_text = []\\n    \\n    for token in doc:\\n        #if token.pos_ != \"VERB\": \\n        lemmatized_text.append(token.lemma_)\\n        #else:\\n         #   lemmatized_text.append(token.text)  \\n    \\n    return \" \".join(lemmatized_text)\\n\\n\\n\\ndf[\"tweet_new\"] = df[\"tweet_new\"].apply(lemmatize_text_with_no_verbs)\\ndf[[\"tweet\", \"tweet_new\"]].head(5)'"
      ]
     },
     "execution_count": 10,
     "metadata": {},
     "output_type": "execute_result"
    }
   ],
   "source": [
    "\n",
    "'''nlp = spacy.load(\"en_core_web_sm\")\n",
    "\n",
    "def lemmatize_text_with_no_verbs(text):\n",
    "    doc = nlp(text)\n",
    "    lemmatized_text = []\n",
    "    \n",
    "    for token in doc:\n",
    "        #if token.pos_ != \"VERB\": \n",
    "        lemmatized_text.append(token.lemma_)\n",
    "        #else:\n",
    "         #   lemmatized_text.append(token.text)  \n",
    "    \n",
    "    return \" \".join(lemmatized_text)\n",
    "\n",
    "\n",
    "\n",
    "df[\"tweet_new\"] = df[\"tweet_new\"].apply(lemmatize_text_with_no_verbs)\n",
    "df[[\"tweet\", \"tweet_new\"]].head(5)'''\n"
   ]
  },
  {
   "cell_type": "markdown",
   "metadata": {},
   "source": [
    "# Tokenization"
   ]
  },
  {
   "cell_type": "code",
   "execution_count": 10,
   "metadata": {},
   "outputs": [
    {
     "data": {
      "text/html": [
       "<div>\n",
       "<style scoped>\n",
       "    .dataframe tbody tr th:only-of-type {\n",
       "        vertical-align: middle;\n",
       "    }\n",
       "\n",
       "    .dataframe tbody tr th {\n",
       "        vertical-align: top;\n",
       "    }\n",
       "\n",
       "    .dataframe thead th {\n",
       "        text-align: right;\n",
       "    }\n",
       "</style>\n",
       "<table border=\"1\" class=\"dataframe\">\n",
       "  <thead>\n",
       "    <tr style=\"text-align: right;\">\n",
       "      <th></th>\n",
       "      <th>tweet_new</th>\n",
       "      <th>tweet_tokens</th>\n",
       "    </tr>\n",
       "  </thead>\n",
       "  <tbody>\n",
       "    <tr>\n",
       "      <th>0</th>\n",
       "      <td>biden blunders 6 month update inflation delta ...</td>\n",
       "      <td>[biden, blunders, 6, month, update, inflation,...</td>\n",
       "    </tr>\n",
       "    <tr>\n",
       "      <th>1</th>\n",
       "      <td>many people literally starving streets 19th ce...</td>\n",
       "      <td>[many, people, literally, starving, streets, 1...</td>\n",
       "    </tr>\n",
       "    <tr>\n",
       "      <th>2</th>\n",
       "      <td>supreme court siding super rich property owner...</td>\n",
       "      <td>[supreme, court, siding, super, rich, property...</td>\n",
       "    </tr>\n",
       "    <tr>\n",
       "      <th>3</th>\n",
       "      <td>biden blunders broken campaign promises inflat...</td>\n",
       "      <td>[biden, blunders, broken, campaign, promises, ...</td>\n",
       "    </tr>\n",
       "    <tr>\n",
       "      <th>4</th>\n",
       "      <td>agree confluence events right unprecedented af...</td>\n",
       "      <td>[agree, confluence, events, right, unprecedent...</td>\n",
       "    </tr>\n",
       "  </tbody>\n",
       "</table>\n",
       "</div>"
      ],
      "text/plain": [
       "                                           tweet_new  \\\n",
       "0  biden blunders 6 month update inflation delta ...   \n",
       "1  many people literally starving streets 19th ce...   \n",
       "2  supreme court siding super rich property owner...   \n",
       "3  biden blunders broken campaign promises inflat...   \n",
       "4  agree confluence events right unprecedented af...   \n",
       "\n",
       "                                        tweet_tokens  \n",
       "0  [biden, blunders, 6, month, update, inflation,...  \n",
       "1  [many, people, literally, starving, streets, 1...  \n",
       "2  [supreme, court, siding, super, rich, property...  \n",
       "3  [biden, blunders, broken, campaign, promises, ...  \n",
       "4  [agree, confluence, events, right, unprecedent...  "
      ]
     },
     "execution_count": 10,
     "metadata": {},
     "output_type": "execute_result"
    }
   ],
   "source": [
    "\n",
    "def tokenize_text(text):\n",
    "    if isinstance(text, str):\n",
    "        return word_tokenize(text)  \n",
    "    return text  \n",
    "\n",
    "df[\"tweet_tokens\"] = df[\"tweet_new\"].apply(tokenize_text)\n",
    "\n",
    "df[[\"tweet_new\", \"tweet_tokens\"]].head()"
   ]
  },
  {
   "cell_type": "code",
   "execution_count": 11,
   "metadata": {},
   "outputs": [
    {
     "name": "stdout",
     "output_type": "stream",
     "text": [
      "                                                    tweet tweet_new\n",
      "20330                           @ThorJohnson_xxx Me me me          \n",
      "20511                       @threesome_xxx Who are they!?          \n",
      "104356  @oregon_resister @bamableu @Mackaveli8 @The_Mr...          \n"
     ]
    }
   ],
   "source": [
    "print(df[df[\"tweet_new\"].str.strip() == \"\"][[\"tweet\", \"tweet_new\"]])\n",
    "\n"
   ]
  },
  {
   "cell_type": "code",
   "execution_count": 12,
   "metadata": {},
   "outputs": [],
   "source": [
    "df = df[df['tweet_new'].str.strip() != \"\"]\n"
   ]
  },
  {
   "cell_type": "code",
   "execution_count": 14,
   "metadata": {},
   "outputs": [
    {
     "data": {
      "text/plain": [
       "8547"
      ]
     },
     "execution_count": 14,
     "metadata": {},
     "output_type": "execute_result"
    }
   ],
   "source": [
    "df['tweet_new'].duplicated().sum()"
   ]
  },
  {
   "cell_type": "code",
   "execution_count": 15,
   "metadata": {},
   "outputs": [
    {
     "data": {
      "text/plain": [
       "(134195, 26)"
      ]
     },
     "execution_count": 15,
     "metadata": {},
     "output_type": "execute_result"
    }
   ],
   "source": [
    "df.shape\n"
   ]
  },
  {
   "cell_type": "markdown",
   "metadata": {},
   "source": [
    "# Text analyze"
   ]
  },
  {
   "cell_type": "code",
   "execution_count": 16,
   "metadata": {},
   "outputs": [
    {
     "data": {
      "text/html": [
       "<div>\n",
       "<style scoped>\n",
       "    .dataframe tbody tr th:only-of-type {\n",
       "        vertical-align: middle;\n",
       "    }\n",
       "\n",
       "    .dataframe tbody tr th {\n",
       "        vertical-align: top;\n",
       "    }\n",
       "\n",
       "    .dataframe thead th {\n",
       "        text-align: right;\n",
       "    }\n",
       "</style>\n",
       "<table border=\"1\" class=\"dataframe\">\n",
       "  <thead>\n",
       "    <tr style=\"text-align: right;\">\n",
       "      <th></th>\n",
       "      <th>Unnamed: 0</th>\n",
       "      <th>majority_target</th>\n",
       "      <th>statement</th>\n",
       "      <th>BinaryNumTarget</th>\n",
       "      <th>tweet</th>\n",
       "      <th>followers_count</th>\n",
       "      <th>friends_count</th>\n",
       "      <th>favourites_count</th>\n",
       "      <th>statuses_count</th>\n",
       "      <th>listed_count</th>\n",
       "      <th>...</th>\n",
       "      <th>Average word length</th>\n",
       "      <th>Present verbs</th>\n",
       "      <th>Past verbs</th>\n",
       "      <th>Adjectives</th>\n",
       "      <th>Adverbs</th>\n",
       "      <th>Pronouns</th>\n",
       "      <th>Conjunctions</th>\n",
       "      <th>Determiners</th>\n",
       "      <th>Prepositions</th>\n",
       "      <th>Digits</th>\n",
       "    </tr>\n",
       "  </thead>\n",
       "  <tbody>\n",
       "    <tr>\n",
       "      <th>0</th>\n",
       "      <td>0</td>\n",
       "      <td>True</td>\n",
       "      <td>End of eviction moratorium means millions of A...</td>\n",
       "      <td>1.0</td>\n",
       "      <td>@POTUS Biden Blunders - 6 Month Update\\n\\nInfl...</td>\n",
       "      <td>4262.0</td>\n",
       "      <td>3619.0</td>\n",
       "      <td>34945.0</td>\n",
       "      <td>16423.0</td>\n",
       "      <td>44.0</td>\n",
       "      <td>...</td>\n",
       "      <td>6.451613</td>\n",
       "      <td>0.0</td>\n",
       "      <td>0.0</td>\n",
       "      <td>2.0</td>\n",
       "      <td>0.0</td>\n",
       "      <td>1.0</td>\n",
       "      <td>0.0</td>\n",
       "      <td>0.0</td>\n",
       "      <td>0.0</td>\n",
       "      <td>2.0</td>\n",
       "    </tr>\n",
       "    <tr>\n",
       "      <th>1</th>\n",
       "      <td>1</td>\n",
       "      <td>True</td>\n",
       "      <td>End of eviction moratorium means millions of A...</td>\n",
       "      <td>1.0</td>\n",
       "      <td>@S0SickRick @Stairmaster_ @6d6f636869 Not as m...</td>\n",
       "      <td>1393.0</td>\n",
       "      <td>1621.0</td>\n",
       "      <td>31436.0</td>\n",
       "      <td>37184.0</td>\n",
       "      <td>64.0</td>\n",
       "      <td>...</td>\n",
       "      <td>7.043478</td>\n",
       "      <td>0.0</td>\n",
       "      <td>0.0</td>\n",
       "      <td>4.0</td>\n",
       "      <td>2.0</td>\n",
       "      <td>0.0</td>\n",
       "      <td>0.0</td>\n",
       "      <td>0.0</td>\n",
       "      <td>0.0</td>\n",
       "      <td>0.0</td>\n",
       "    </tr>\n",
       "    <tr>\n",
       "      <th>2</th>\n",
       "      <td>2</td>\n",
       "      <td>True</td>\n",
       "      <td>End of eviction moratorium means millions of A...</td>\n",
       "      <td>1.0</td>\n",
       "      <td>THE SUPREME COURT is siding with super rich pr...</td>\n",
       "      <td>9.0</td>\n",
       "      <td>84.0</td>\n",
       "      <td>219.0</td>\n",
       "      <td>1184.0</td>\n",
       "      <td>0.0</td>\n",
       "      <td>...</td>\n",
       "      <td>6.043478</td>\n",
       "      <td>0.0</td>\n",
       "      <td>0.0</td>\n",
       "      <td>5.0</td>\n",
       "      <td>2.0</td>\n",
       "      <td>0.0</td>\n",
       "      <td>0.0</td>\n",
       "      <td>0.0</td>\n",
       "      <td>0.0</td>\n",
       "      <td>0.0</td>\n",
       "    </tr>\n",
       "    <tr>\n",
       "      <th>3</th>\n",
       "      <td>3</td>\n",
       "      <td>True</td>\n",
       "      <td>End of eviction moratorium means millions of A...</td>\n",
       "      <td>1.0</td>\n",
       "      <td>@POTUS Biden Blunders\\n\\nBroken campaign promi...</td>\n",
       "      <td>4262.0</td>\n",
       "      <td>3619.0</td>\n",
       "      <td>34945.0</td>\n",
       "      <td>16423.0</td>\n",
       "      <td>44.0</td>\n",
       "      <td>...</td>\n",
       "      <td>6.687500</td>\n",
       "      <td>2.0</td>\n",
       "      <td>1.0</td>\n",
       "      <td>1.0</td>\n",
       "      <td>0.0</td>\n",
       "      <td>0.0</td>\n",
       "      <td>0.0</td>\n",
       "      <td>0.0</td>\n",
       "      <td>1.0</td>\n",
       "      <td>2.0</td>\n",
       "    </tr>\n",
       "    <tr>\n",
       "      <th>4</th>\n",
       "      <td>4</td>\n",
       "      <td>True</td>\n",
       "      <td>End of eviction moratorium means millions of A...</td>\n",
       "      <td>1.0</td>\n",
       "      <td>@OhComfy I agree. The confluence of events rig...</td>\n",
       "      <td>70.0</td>\n",
       "      <td>166.0</td>\n",
       "      <td>15282.0</td>\n",
       "      <td>2194.0</td>\n",
       "      <td>0.0</td>\n",
       "      <td>...</td>\n",
       "      <td>7.428571</td>\n",
       "      <td>0.0</td>\n",
       "      <td>0.0</td>\n",
       "      <td>3.0</td>\n",
       "      <td>0.0</td>\n",
       "      <td>0.0</td>\n",
       "      <td>0.0</td>\n",
       "      <td>0.0</td>\n",
       "      <td>0.0</td>\n",
       "      <td>0.0</td>\n",
       "    </tr>\n",
       "  </tbody>\n",
       "</table>\n",
       "<p>5 rows × 39 columns</p>\n",
       "</div>"
      ],
      "text/plain": [
       "   Unnamed: 0  majority_target  \\\n",
       "0           0             True   \n",
       "1           1             True   \n",
       "2           2             True   \n",
       "3           3             True   \n",
       "4           4             True   \n",
       "\n",
       "                                           statement  BinaryNumTarget  \\\n",
       "0  End of eviction moratorium means millions of A...              1.0   \n",
       "1  End of eviction moratorium means millions of A...              1.0   \n",
       "2  End of eviction moratorium means millions of A...              1.0   \n",
       "3  End of eviction moratorium means millions of A...              1.0   \n",
       "4  End of eviction moratorium means millions of A...              1.0   \n",
       "\n",
       "                                               tweet  followers_count  \\\n",
       "0  @POTUS Biden Blunders - 6 Month Update\\n\\nInfl...           4262.0   \n",
       "1  @S0SickRick @Stairmaster_ @6d6f636869 Not as m...           1393.0   \n",
       "2  THE SUPREME COURT is siding with super rich pr...              9.0   \n",
       "3  @POTUS Biden Blunders\\n\\nBroken campaign promi...           4262.0   \n",
       "4  @OhComfy I agree. The confluence of events rig...             70.0   \n",
       "\n",
       "   friends_count  favourites_count  statuses_count  listed_count  ...  \\\n",
       "0         3619.0           34945.0         16423.0          44.0  ...   \n",
       "1         1621.0           31436.0         37184.0          64.0  ...   \n",
       "2           84.0             219.0          1184.0           0.0  ...   \n",
       "3         3619.0           34945.0         16423.0          44.0  ...   \n",
       "4          166.0           15282.0          2194.0           0.0  ...   \n",
       "\n",
       "  Average word length  Present verbs  Past verbs  Adjectives  Adverbs  \\\n",
       "0            6.451613            0.0         0.0         2.0      0.0   \n",
       "1            7.043478            0.0         0.0         4.0      2.0   \n",
       "2            6.043478            0.0         0.0         5.0      2.0   \n",
       "3            6.687500            2.0         1.0         1.0      0.0   \n",
       "4            7.428571            0.0         0.0         3.0      0.0   \n",
       "\n",
       "   Pronouns  Conjunctions  Determiners  Prepositions  Digits  \n",
       "0       1.0           0.0          0.0           0.0     2.0  \n",
       "1       0.0           0.0          0.0           0.0     0.0  \n",
       "2       0.0           0.0          0.0           0.0     0.0  \n",
       "3       0.0           0.0          0.0           1.0     2.0  \n",
       "4       0.0           0.0          0.0           0.0     0.0  \n",
       "\n",
       "[5 rows x 39 columns]"
      ]
     },
     "execution_count": 16,
     "metadata": {},
     "output_type": "execute_result"
    }
   ],
   "source": [
    "\n",
    "\n",
    "nlp = spacy.load(\"en_core_web_sm\")\n",
    "\n",
    "def analyze_text(text):\n",
    "    doc = nlp(text)\n",
    "    \n",
    "    word_count = len(doc)\n",
    "    max_word_length = max(len(token.text) for token in doc) if word_count > 0 else 0\n",
    "    min_word_length = min(len(token.text) for token in doc) if word_count > 0 else 0\n",
    "    avg_word_length = sum(len(token.text) for token in doc) / word_count if word_count > 0 else 0\n",
    "\n",
    "    verbs_present = sum(1 for token in doc if token.pos_ == \"VERB\" and token.tag_ == \"VBZ\")  \n",
    "    verbs_past = sum(1 for token in doc if token.pos_ == \"VERB\" and token.tag_ == \"VBD\") \n",
    "    adjectives = sum(1 for token in doc if token.pos_ == \"ADJ\")\n",
    "    adverbs = sum(1 for token in doc if token.pos_ == \"ADV\")\n",
    "    pronouns = sum(1 for token in doc if token.pos_ == \"PRON\")\n",
    "    conjunctions = sum(1 for token in doc if token.pos_ == \"CCONJ\")\n",
    "    determiners = sum(1 for token in doc if token.pos_ == \"DET\")\n",
    "    prepositions = sum(1 for token in doc if token.pos_ == \"ADP\")\n",
    "    digits = sum(1 for token in doc if token.text.isdigit())\n",
    "    \n",
    "    '''dots = text.count('.') if isinstance(text, str) else 0\n",
    "    exclamations = text.count('!') if isinstance(text, str) else 0\n",
    "    questions = text.count('?') if isinstance(text, str) else 0\n",
    "    ampersands = text.count('&') if isinstance(text, str) else 0'''\n",
    "\n",
    "\n",
    "\n",
    "    stats = {\n",
    "        'Word count': word_count,\n",
    "        'Max word length': max_word_length,\n",
    "        'Min word length': min_word_length,\n",
    "        'Average word length': avg_word_length,\n",
    "        'Present verbs': verbs_present,\n",
    "        'Past verbs': verbs_past,\n",
    "        'Adjectives': adjectives,\n",
    "        'Adverbs': adverbs,\n",
    "        'Pronouns': pronouns,\n",
    "        'Conjunctions': conjunctions,\n",
    "        'Determiners': determiners,\n",
    "        'Prepositions': prepositions,\n",
    "        'Digits': digits\n",
    "        #'Dots': dots,\n",
    "        #'Exclamations': exclamations,\n",
    "        #'Questions': questions,\n",
    "        #'Ampersands': ampersands'''\n",
    "        \n",
    "    }\n",
    "    return stats\n",
    "\n",
    "df_stats = df[\"tweet_new\"].apply(analyze_text).apply(pd.Series)\n",
    "\n",
    "df = pd.concat([df, df_stats], axis=1)\n",
    "\n",
    "df.head()\n"
   ]
  },
  {
   "cell_type": "code",
   "execution_count": 17,
   "metadata": {},
   "outputs": [],
   "source": [
    "#Ovo je nepotrebno\n",
    "df = df.drop(columns=['total_count'])\n",
    "df = df.drop(columns=['unique_count'])\n",
    "df = df.drop(columns=['embeddings'])\n"
   ]
  },
  {
   "cell_type": "code",
   "execution_count": 18,
   "metadata": {},
   "outputs": [
    {
     "data": {
      "text/plain": [
       "Index(['Unnamed: 0', 'majority_target', 'statement', 'BinaryNumTarget',\n",
       "       'tweet', 'followers_count', 'friends_count', 'favourites_count',\n",
       "       'statuses_count', 'listed_count', 'BotScore', 'BotScoreBinary', 'cred',\n",
       "       'normalize_influence', 'mentions', 'quotes', 'replies', 'retweets',\n",
       "       'favourites', 'hashtags', 'URLs', 'tweet_new', 'tweet_tokens',\n",
       "       'Word count', 'Max word length', 'Min word length',\n",
       "       'Average word length', 'Present verbs', 'Past verbs', 'Adjectives',\n",
       "       'Adverbs', 'Pronouns', 'Conjunctions', 'Determiners', 'Prepositions',\n",
       "       'Digits'],\n",
       "      dtype='object')"
      ]
     },
     "execution_count": 18,
     "metadata": {},
     "output_type": "execute_result"
    }
   ],
   "source": [
    "df.columns"
   ]
  },
  {
   "cell_type": "code",
   "execution_count": 19,
   "metadata": {},
   "outputs": [
    {
     "name": "stdout",
     "output_type": "stream",
     "text": [
      "Index([], dtype='object')\n"
     ]
    }
   ],
   "source": [
    "zero_columns = df.columns[(df == 0.0).all()]\n",
    "print(zero_columns)\n"
   ]
  },
  {
   "cell_type": "code",
   "execution_count": 20,
   "metadata": {},
   "outputs": [
    {
     "data": {
      "image/png": "[encoded data removed]",
      "text/plain": [
       "<Figure size 1000x500 with 1 Axes>"
      ]
     },
     "metadata": {},
     "output_type": "display_data"
    }
   ],
   "source": [
    "plt.figure(figsize=(10, 5))\n",
    "sns.histplot(df['Word count'], bins=20, kde=True, color='turquoise')\n",
    "\n",
    "plt.xlabel(\"Broj riječi\")\n",
    "plt.ylabel(\"Frekvencija\")\n",
    "plt.title(\"Distribucija broja riječi\")\n",
    "\n",
    "\n",
    "plt.show()"
   ]
  },
  {
   "cell_type": "code",
   "execution_count": 21,
   "metadata": {},
   "outputs": [
    {
     "data": {
      "image/png": "[encoded data removed]",
      "text/plain": [
       "<Figure size 1500x500 with 2 Axes>"
      ]
     },
     "metadata": {},
     "output_type": "display_data"
    }
   ],
   "source": [
    "\n",
    "df_true = df[df['majority_target'] == True]\n",
    "df_false = df[df['majority_target'] == False]\n",
    "\n",
    "fig, axes = plt.subplots(1, 2, figsize=(15, 5), sharey=True) \n",
    "\n",
    "\n",
    "sns.histplot(df_true['Word count'], bins=20, kde=True, color='pink', ax=axes[0])\n",
    "axes[0].set_xlabel(\"Broj riječi\")\n",
    "axes[0].set_ylabel(\"Frekvencija\")\n",
    "axes[0].set_title(\"Distribucija broja riječi za majority target = True\")\n",
    "\n",
    "sns.histplot(df_false['Word count'], bins=20, kde=True, color='lightblue', ax=axes[1])\n",
    "axes[1].set_xlabel(\"Broj riječi\")\n",
    "axes[1].set_ylabel(\"Frekvencija\")\n",
    "axes[1].set_title(\"Distribucija broja riječi za majority target = False\")\n",
    "\n",
    "plt.tight_layout()  \n",
    "plt.show()\n"
   ]
  },
  {
   "cell_type": "markdown",
   "metadata": {},
   "source": [
    "# Empath"
   ]
  },
  {
   "cell_type": "code",
   "execution_count": 23,
   "metadata": {},
   "outputs": [],
   "source": [
    "lexicon = Empath()\n",
    "\n",
    "empath_scores= []\n",
    "\n",
    "for i, tweet in enumerate(df['tweet_new']):\n",
    "    try:\n",
    "        empath_result = lexicon.analyze(tweet, normalize=True)\n",
    "        empath_scores.append({'tweet_new': tweet, 'empath_result': empath_result})\n",
    "    except Exception as e:\n",
    "        print(f\"An error occurred for tweet {i}: {e}\")\n",
    "\n",
    "df_empath_2 = pd.json_normalize(empath_scores)"
   ]
  },
  {
   "cell_type": "code",
   "execution_count": 25,
   "metadata": {},
   "outputs": [
    {
     "data": {
      "text/plain": [
       "Index(['tweet_new', 'empath_result.help', 'empath_result.office',\n",
       "       'empath_result.dance', 'empath_result.money', 'empath_result.wedding',\n",
       "       'empath_result.domestic_work', 'empath_result.sleep',\n",
       "       'empath_result.medical_emergency', 'empath_result.cold',\n",
       "       ...\n",
       "       'empath_result.weapon', 'empath_result.children',\n",
       "       'empath_result.monster', 'empath_result.ocean', 'empath_result.giving',\n",
       "       'empath_result.contentment', 'empath_result.writing',\n",
       "       'empath_result.rural', 'empath_result.positive_emotion',\n",
       "       'empath_result.musical'],\n",
       "      dtype='object', length=195)"
      ]
     },
     "execution_count": 25,
     "metadata": {},
     "output_type": "execute_result"
    }
   ],
   "source": [
    "df_empath_2.columns"
   ]
  },
  {
   "cell_type": "code",
   "execution_count": 26,
   "metadata": {},
   "outputs": [],
   "source": [
    "df_empath_2.to_csv(\"empath.csv\")"
   ]
  },
  {
   "cell_type": "code",
   "execution_count": 27,
   "metadata": {},
   "outputs": [
    {
     "data": {
      "text/plain": [
       "Index(['Unnamed: 0', 'tweet_new', 'empath_result.help', 'empath_result.office',\n",
       "       'empath_result.dance', 'empath_result.money', 'empath_result.wedding',\n",
       "       'empath_result.domestic_work', 'empath_result.sleep',\n",
       "       'empath_result.medical_emergency',\n",
       "       ...\n",
       "       'empath_result.weapon', 'empath_result.children',\n",
       "       'empath_result.monster', 'empath_result.ocean', 'empath_result.giving',\n",
       "       'empath_result.contentment', 'empath_result.writing',\n",
       "       'empath_result.rural', 'empath_result.positive_emotion',\n",
       "       'empath_result.musical'],\n",
       "      dtype='object', length=196)"
      ]
     },
     "execution_count": 27,
     "metadata": {},
     "output_type": "execute_result"
    }
   ],
   "source": [
    "df2 = pd.read_csv(\"empath.csv\")\n",
    "df2.columns"
   ]
  },
  {
   "cell_type": "markdown",
   "metadata": {},
   "source": [
    "# Log scal User features"
   ]
  },
  {
   "cell_type": "code",
   "execution_count": 24,
   "metadata": {},
   "outputs": [],
   "source": [
    "zalogskal = ['followers_count', 'favourites_count','friends_count',\n",
    "       'statuses_count', 'listed_count', 'mentions', 'quotes']\n",
    "for col in zalogskal:\n",
    "    df[f'{col}'] = np.log1p(df[col])"
   ]
  },
  {
   "cell_type": "code",
   "execution_count": null,
   "metadata": {},
   "outputs": [],
   "source": [
    "df.rename(columns={'Unnamed: 0': 'tweet_id'}, inplace=True)\n"
   ]
  },
  {
   "cell_type": "code",
   "execution_count": 28,
   "metadata": {},
   "outputs": [],
   "source": [
    "df.to_csv(\"final.csv\")\n"
   ]
  },
  {
   "cell_type": "code",
   "execution_count": 29,
   "metadata": {},
   "outputs": [],
   "source": [
    "df3 = pd.read_csv(\"final.csv\")"
   ]
  },
  {
   "cell_type": "code",
   "execution_count": 30,
   "metadata": {},
   "outputs": [],
   "source": [
    "df_merged = pd.merge(df3, df2, on='Unnamed: 0', how='left')\n",
    "df_merged.to_csv(\"final_merged.csv\")\n"
   ]
  },
  {
   "cell_type": "code",
   "execution_count": 31,
   "metadata": {},
   "outputs": [
    {
     "data": {
      "text/plain": [
       "(134195, 232)"
      ]
     },
     "execution_count": 31,
     "metadata": {},
     "output_type": "execute_result"
    }
   ],
   "source": [
    "df_merged.shape"
   ]
  },
  {
   "cell_type": "code",
   "execution_count": null,
   "metadata": {},
   "outputs": [],
   "source": []
  }
 ],
 "metadata": {
  "kernelspec": {
   "display_name": "Python 3",
   "language": "python",
   "name": "python3"
  },
  "language_info": {
   "codemirror_mode": {
    "name": "ipython",
    "version": 3
   },
   "file_extension": ".py",
   "mimetype": "text/x-python",
   "name": "python",
   "nbconvert_exporter": "python",
   "pygments_lexer": "ipython3",
   "version": "3.11.9"
  }
 },
 "nbformat": 4,
 "nbformat_minor": 2
}
